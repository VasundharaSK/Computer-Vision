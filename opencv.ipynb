{
 "cells": [
  {
   "cell_type": "code",
   "execution_count": 22,
   "metadata": {},
   "outputs": [],
   "source": [
    "import cv2\n",
    "import glob"
   ]
  },
  {
   "cell_type": "code",
   "execution_count": 15,
   "metadata": {},
   "outputs": [],
   "source": [
    "img = cv2.imread(\"galaxy.jpg\",1)"
   ]
  },
  {
   "cell_type": "code",
   "execution_count": 16,
   "metadata": {},
   "outputs": [
    {
     "name": "stdout",
     "output_type": "stream",
     "text": [
      "<class 'numpy.ndarray'>\n"
     ]
    }
   ],
   "source": [
    "print(type(img))"
   ]
  },
  {
   "cell_type": "code",
   "execution_count": 17,
   "metadata": {},
   "outputs": [
    {
     "name": "stdout",
     "output_type": "stream",
     "text": [
      "[[[19 15 10]\n",
      "  [23 19 14]\n",
      "  [21 15  8]\n",
      "  ...\n",
      "  [27 22 13]\n",
      "  [22 17  8]\n",
      "  [23 18  9]]\n",
      "\n",
      " [[17 13  8]\n",
      "  [21 17 12]\n",
      "  [19 13  6]\n",
      "  ...\n",
      "  [27 22 13]\n",
      "  [22 17  8]\n",
      "  [24 19 10]]\n",
      "\n",
      " [[17 14  6]\n",
      "  [18 15  7]\n",
      "  [21 18 10]\n",
      "  ...\n",
      "  [23 16  7]\n",
      "  [33 26 17]\n",
      "  [30 23 14]]\n",
      "\n",
      " ...\n",
      "\n",
      " [[ 0  0  0]\n",
      "  [ 0  0  0]\n",
      "  [ 0  0  0]\n",
      "  ...\n",
      "  [ 5  5  5]\n",
      "  [ 8  8  8]\n",
      "  [14 14 14]]\n",
      "\n",
      " [[ 0  0  0]\n",
      "  [ 0  0  0]\n",
      "  [ 0  0  0]\n",
      "  ...\n",
      "  [ 2  2  2]\n",
      "  [ 3  3  3]\n",
      "  [ 9  9  9]]\n",
      "\n",
      " [[ 1  1  1]\n",
      "  [ 1  1  1]\n",
      "  [ 1  1  1]\n",
      "  ...\n",
      "  [ 1  1  1]\n",
      "  [ 1  1  1]\n",
      "  [ 3  3  3]]]\n"
     ]
    }
   ],
   "source": [
    "print(img)"
   ]
  },
  {
   "cell_type": "code",
   "execution_count": 18,
   "metadata": {},
   "outputs": [],
   "source": [
    "res_img = cv2.resize(img,(1000,500))\n",
    "cv2.imshow(\"Galaxy\",res_img)\n",
    "cv2.imwrite(\"Galaxyrs.jpg\",res_img)\n",
    "cv2.waitKey(2000)\n",
    "cv2.destroyAllWindows()"
   ]
  },
  {
   "cell_type": "code",
   "execution_count": 33,
   "metadata": {},
   "outputs": [],
   "source": [
    "images=glob.glob(\"*.jpg\")"
   ]
  },
  {
   "cell_type": "code",
   "execution_count": 35,
   "metadata": {},
   "outputs": [],
   "source": [
    "for image in images:\n",
    "    img=cv2.imread(image,1)\n",
    "    re=cv2.resize(img,(100,100))\n",
    "    cv2.imshow(\"Hey\",re)\n",
    "    cv2.waitKey(1000)\n",
    "    cv2.destroyAllWindows()\n",
    "    cv2.imwrite(\"resized_\"+ image, re)"
   ]
  },
  {
   "cell_type": "code",
   "execution_count": null,
   "metadata": {},
   "outputs": [],
   "source": []
  },
  {
   "cell_type": "code",
   "execution_count": null,
   "metadata": {},
   "outputs": [],
   "source": []
  }
 ],
 "metadata": {
  "kernelspec": {
   "display_name": "Python 3",
   "language": "python",
   "name": "python3"
  },
  "language_info": {
   "codemirror_mode": {
    "name": "ipython",
    "version": 3
   },
   "file_extension": ".py",
   "mimetype": "text/x-python",
   "name": "python",
   "nbconvert_exporter": "python",
   "pygments_lexer": "ipython3",
   "version": "3.7.6"
  }
 },
 "nbformat": 4,
 "nbformat_minor": 4
}
